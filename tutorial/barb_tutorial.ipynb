{
 "cells": [
  {
   "cell_type": "markdown",
   "metadata": {},
   "source": [
    "# Importing the Necessary Modules and Libraries"
   ]
  },
  {
   "cell_type": "markdown",
   "metadata": {},
   "source": [
    "<div class=\"alert alert-block alert-warning\">\n",
    "<span style=\"font-family:Comic Sans MS\">\n",
    "<font color=DarkGoldenRod>\n",
    "1. NumPy is a python library fundamental for scientific computing, it includes several mathematical operations, a multidimensonal array object as well as routines to operate on those objects, and many other functions.\n",
    "    <br>\n",
    "2. Glob is a module used for finding paths to specific objects.\n",
    "    <br>\n",
    "3. Argparse is a module used to input command-line arguments.\n",
    "    <br>\n",
    "4. Logging is a module used for tracking events related to how the code runs.\n",
    "    <br>\n",
    "5. Sys is a module for used for defining system specific parameters and functions\n",
    "    <br>\n",
    "6. Os is a module that allows for interact with the operationg-system functionalities.\n",
    "</font>\n",
    "</span>\n",
    "</div>"
   ]
  },
  {
   "cell_type": "code",
   "execution_count": 1,
   "metadata": {},
   "outputs": [],
   "source": [
    "#!/usr/bin/env python\n",
    "import numpy as np\n",
    "import glob\n",
    "import argparse\n",
    "import logging\n",
    "import sys\n",
    "import os"
   ]
  },
  {
   "cell_type": "markdown",
   "metadata": {},
   "source": [
    "### These specific functions were devloped for this rate calculation software"
   ]
  },
  {
   "cell_type": "markdown",
   "metadata": {},
   "source": [
    "<div class=\"alert alert-block alert-warning\">\n",
    "<span style=\"font-family:Comic Sans MS\">\n",
    "<font color=DarkGoldenRod>\n",
    "7. read_in is used for inputing the Fast Radio Burst (FRB) data\n",
    "    <br>\n",
    "8. make_corner is used at the end of the code to make a corner plot that displays the results of the mcmc analysis\n",
    "    <br>\n",
    "9. sampling is the function that performs the mcmc analysis\n",
    "    <br>\n",
    "10. convert_params is used to converts the samples extracted from the mcmc analysis into the correct form for plotting in the corner plot\n",
    "    <br>\n",
    "11. read_samples is used to extract the samples from the mcmc analysis\n",
    "</font>\n",
    "</span>\n",
    "</div>"
   ]
  },
  {
   "cell_type": "code",
   "execution_count": 2,
   "metadata": {},
   "outputs": [],
   "source": [
    "from barb.read_inputs import read_in\n",
    "from barb.plotting import make_corner\n",
    "from barb.mcmc import sampling, convert_params, read_samples"
   ]
  },
  {
   "cell_type": "markdown",
   "metadata": {},
   "source": [
    "***"
   ]
  },
  {
   "cell_type": "markdown",
   "metadata": {},
   "source": [
    "# Defining the Argparser Arguments"
   ]
  },
  {
   "cell_type": "markdown",
   "metadata": {},
   "source": [
    "<div class=\"alert alert-block alert-warning\">\n",
    "<span style=\"font-family:Comic Sans MS\">\n",
    "<font color=DarkGoldenRod>\n",
    "- When arguments are entered in the command line, these following lines of code decide how they're intepretted.\n",
    "    <br>\n",
    "    - In this notebook, we will not be interfacing with the command line, but this is still relevant for understanding how everything works.\n",
    "</font>\n",
    "</span>\n",
    "</div>"
   ]
  },
  {
   "cell_type": "code",
   "execution_count": 3,
   "metadata": {},
   "outputs": [],
   "source": [
    "os.environ[\"HDF5_USE_FILE_LOCKING\"] = \"FALSE\""
   ]
  },
  {
   "cell_type": "markdown",
   "metadata": {},
   "source": [
    "<div class=\"alert alert-block alert-info\">\n",
    "<span style=\"font-family:Comic Sans MS\">\n",
    "<font color=CornflowerBlue>\n",
    "if __name__ == \"__main__\":\n",
    "<br>\n",
    "&nbsp;&nbsp;&nbsp;&nbsp;parser = argparse.ArgumentParser(\n",
    "<br>\n",
    "&nbsp;&nbsp;&nbsp;&nbsp;&nbsp;&nbsp;&nbsp;&nbsp;description=\"\"\"Bayesian Rate-Estimation for FRBs (BaRB)\n",
    "<br>\n",
    "sample command: python run_analysis.py -D [path to the surveys] -c [number of cpus] -r [name of h5 file] -n [name of corner plot] -m [max iterations of mcmc]\n",
    "<br>\n",
    "Surveys on the original data set: Agarwal 2019, Masui 2015, Men 2019, Bhandari 2018, Golpayegani 2019, Oslowski 2019, GREENBURST, Bhandari 2019, Qiu 2019, Shannon 2018, Madison 2019, Lorimer 2007, Deneva 2009, Keane 2010, Siemion 2011, Burgay 2012, Petroff 2014, Spitler 2014, Burke-Spolaor 2014, Ravi 2015, Petroff 2015, Law 2015, Champion 2016\"\"\",\n",
    "<br>\n",
    "&nbsp;&nbsp;&nbsp;&nbsp;&nbsp;&nbsp;&nbsp;&nbsp;formatter_class=argparse.RawTextHelpFormatter,\n",
    "<br>\n",
    "&nbsp;&nbsp;&nbsp;&nbsp;&nbsp;&nbsp;&nbsp;&nbsp;prog=\"run_analysis.py\",\n",
    "<br>\n",
    "&nbsp;&nbsp;&nbsp;&nbsp;)\n",
    "<br>\n",
    "&nbsp;&nbsp;&nbsp;&nbsp;parser.add_argument(\n",
    "<br>\n",
    "&nbsp;&nbsp;&nbsp;&nbsp;&nbsp;&nbsp;&nbsp;&nbsp;\"-D\",\n",
    "    <br>\n",
    "&nbsp;&nbsp;&nbsp;&nbsp;&nbsp;&nbsp;&nbsp;&nbsp;\"--dat\",\n",
    "    <br>\n",
    "&nbsp;&nbsp;&nbsp;&nbsp;&nbsp;&nbsp;&nbsp;&nbsp;help=\"supply the input data after this flag\",\n",
    "    <br>\n",
    "&nbsp;&nbsp;&nbsp;&nbsp;&nbsp;&nbsp;&nbsp;&nbsp;action=\"store\",\n",
    "    <br>\n",
    "&nbsp;&nbsp;&nbsp;&nbsp;&nbsp;&nbsp;&nbsp;&nbsp;nargs=\"+\",\n",
    "    <br>\n",
    "&nbsp;&nbsp;&nbsp;&nbsp;&nbsp;&nbsp;&nbsp;&nbsp;required=True,\n",
    "    <br>\n",
    "&nbsp;&nbsp;&nbsp;&nbsp;)\n",
    "    <br>\n",
    "&nbsp;&nbsp;&nbsp;&nbsp;parser.add_argument(\n",
    "    <br>\n",
    "&nbsp;&nbsp;&nbsp;&nbsp;&nbsp;&nbsp;&nbsp;&nbsp;\"-c\",\n",
    "    <br>\n",
    "&nbsp;&nbsp;&nbsp;&nbsp;&nbsp;&nbsp;&nbsp;&nbsp;\"--cpus\",\n",
    "    <br>\n",
    "&nbsp;&nbsp;&nbsp;&nbsp;&nbsp;&nbsp;&nbsp;&nbsp;help=\"supply the number of cpus you want to be used\",\n",
    "    <br>\n",
    "&nbsp;&nbsp;&nbsp;&nbsp;&nbsp;&nbsp;&nbsp;&nbsp;action=\"store\",\n",
    "    <br>\n",
    "&nbsp;&nbsp;&nbsp;&nbsp;&nbsp;&nbsp;&nbsp;&nbsp;required=True,\n",
    "    <br>\n",
    "&nbsp;&nbsp;&nbsp;&nbsp;)\n",
    "    <br>\n",
    "&nbsp;&nbsp;&nbsp;&nbsp;parser.add_argument(\n",
    "    <br>\n",
    "&nbsp;&nbsp;&nbsp;&nbsp;&nbsp;&nbsp;&nbsp;&nbsp;\"-r\",\n",
    "    <br>\n",
    "&nbsp;&nbsp;&nbsp;&nbsp;&nbsp;&nbsp;&nbsp;&nbsp;\"--results\",\n",
    "    <br>\n",
    "&nbsp;&nbsp;&nbsp;&nbsp;&nbsp;&nbsp;&nbsp;&nbsp;help=\"supply the name of the h5 result file that will stored from the mcmc\",\n",
    "    <br>\n",
    "&nbsp;&nbsp;&nbsp;&nbsp;&nbsp;&nbsp;&nbsp;&nbsp;action=\"store\",\n",
    "    <br>\n",
    "&nbsp;&nbsp;&nbsp;&nbsp;&nbsp;&nbsp;&nbsp;&nbsp;required=True,\n",
    "    <br>\n",
    "&nbsp;&nbsp;&nbsp;&nbsp;)\n",
    "    <br>\n",
    "&nbsp;&nbsp;&nbsp;&nbsp;parser.add_argument(\n",
    "    <br>\n",
    "&nbsp;&nbsp;&nbsp;&nbsp;&nbsp;&nbsp;&nbsp;&nbsp;\"-n\",\n",
    "    <br>\n",
    "&nbsp;&nbsp;&nbsp;&nbsp;&nbsp;&nbsp;&nbsp;&nbsp;\"--cornername\",\n",
    "    <br>\n",
    "&nbsp;&nbsp;&nbsp;&nbsp;&nbsp;&nbsp;&nbsp;&nbsp;help=\"supply the name of the corner plot producd from the mcmc results\",\n",
    "    <br>\n",
    "&nbsp;&nbsp;&nbsp;&nbsp;&nbsp;&nbsp;&nbsp;&nbsp;action=\"store\",\n",
    "    <br>\n",
    "&nbsp;&nbsp;&nbsp;&nbsp;&nbsp;&nbsp;&nbsp;&nbsp;required=True,\n",
    "    <br>\n",
    "&nbsp;&nbsp;&nbsp;&nbsp;)\n",
    "    <br>\n",
    "&nbsp;&nbsp;&nbsp;&nbsp;parser.add_argument(\n",
    "    <br>\n",
    "&nbsp;&nbsp;&nbsp;&nbsp;&nbsp;&nbsp;&nbsp;&nbsp;\"-m\",\n",
    "    <br>\n",
    "&nbsp;&nbsp;&nbsp;&nbsp;&nbsp;&nbsp;&nbsp;&nbsp;\"--max_n\",\n",
    "    <br>\n",
    "&nbsp;&nbsp;&nbsp;&nbsp;&nbsp;&nbsp;&nbsp;&nbsp;action=\"store\",\n",
    "    <br>\n",
    "&nbsp;&nbsp;&nbsp;&nbsp;&nbsp;&nbsp;&nbsp;&nbsp;help=\"the maximum number of itertions the mcmc sampler will run\",\n",
    "    <br>\n",
    "&nbsp;&nbsp;&nbsp;&nbsp;&nbsp;&nbsp;&nbsp;&nbsp;required=True,\n",
    "    <br>\n",
    "&nbsp;&nbsp;&nbsp;&nbsp;)\n",
    "    <br>\n",
    "&nbsp;&nbsp;&nbsp;&nbsp;args = parser.parse_args()\n",
    "</font>\n",
    "</span>\n",
    "</div>"
   ]
  },
  {
   "cell_type": "code",
   "execution_count": 4,
   "metadata": {},
   "outputs": [],
   "source": [
    "files = glob.glob('../surveys/*.json')\n",
    "varrgroup = read_in(files)"
   ]
  },
  {
   "cell_type": "markdown",
   "metadata": {},
   "source": [
    "<div class=\"alert alert-block alert-warning\">\n",
    "<span style=\"font-family:Comic Sans MS\">\n",
    "<font color=DarkGoldenRod>\n",
    "In this step, the arguments submtted through the commmand line are assigned to variables used in the code.\n",
    "</font>\n",
    "</span>\n",
    "</div>"
   ]
  },
  {
   "cell_type": "markdown",
   "metadata": {},
   "source": [
    "<div class=\"alert alert-block alert-info\">\n",
    "<span style=\"font-family:Comic Sans MS\">\n",
    "<font color=CornflowerBlue>\n",
    "&nbsp;&nbsp;&nbsp;&nbsp;files = args.dat\n",
    "    <br>\n",
    "&nbsp;&nbsp;&nbsp;&nbsp;max_n = int(args.max_n)\n",
    "    <br>\n",
    "&nbsp;&nbsp;&nbsp;&nbsp;cornername = \"{}\".format(args.cornername)\n",
    "    <br>\n",
    "&nbsp;&nbsp;&nbsp;&nbsp;h5name = \"{}\".format(args.results)\n",
    "    <br>\n",
    "&nbsp;&nbsp;&nbsp;&nbsp;cpu_num = int(args.cpus)\n",
    "</font>\n",
    "</span>\n",
    "</div>"
   ]
  },
  {
   "cell_type": "markdown",
   "metadata": {},
   "source": [
    "***"
   ]
  },
  {
   "cell_type": "markdown",
   "metadata": {},
   "source": [
    "# Logging"
   ]
  },
  {
   "cell_type": "markdown",
   "metadata": {},
   "source": [
    "<div class=\"alert alert-block alert-warning\">\n",
    "<span style=\"font-family:Comic Sans MS\">\n",
    "<font color=DarkGoldenRod>\n",
    "-  In order to keep track of the data entered through the command line, as well as ensure the code is running as expected, we will define a log file and add too it throughout the code.\n",
    "    <br>\n",
    "&nbsp;&nbsp;&nbsp;&nbsp;&nbsp;&nbsp;&nbsp;&nbsp;-  This notebook won't create the log file, but when the code is run from the command line the log file will be created.\n",
    "</font>\n",
    "</span>\n",
    "</div>"
   ]
  },
  {
   "cell_type": "markdown",
   "metadata": {},
   "source": [
    "<div class=\"alert alert-block alert-info\">\n",
    "<span style=\"font-family:Comic Sans MS\">\n",
    "<font color=CornflowerBlue>\n",
    "&nbsp;&nbsp;&nbsp;&nbsp;logging.basicConfig(filename=\"FRB-rate-calc.log\", level=logging.INFO)\n",
    "<br>\n",
    "&nbsp;&nbsp;&nbsp;&nbsp;logging.info(\"The logging file was created\" + \"\\n\")\n",
    "<br>\n",
    "<br>\n",
    "&nbsp;&nbsp;&nbsp;&nbsp;logging.info(\"Input Arguments:-\")\n",
    "<br>\n",
    "&nbsp;&nbsp;&nbsp;&nbsp;for arg, value in sorted(vars(args).items()):\n",
    "<br>\n",
    "&nbsp;&nbsp;&nbsp;&nbsp;&nbsp;&nbsp;&nbsp;&nbsp;logging.info(\"%s: %r\", arg, value)\n",
    "</font>\n",
    "</span>\n",
    "</div>"
   ]
  },
  {
   "cell_type": "markdown",
   "metadata": {},
   "source": [
    "<div class=\"alert alert-block alert-info\">\n",
    "<span style=\"font-family:Comic Sans MS\">\n",
    "<font color=CornflowerBlue>\n",
    "&nbsp;&nbsp;&nbsp;&nbsp;logging.info(\"Data Provided: {0}\".format(varrgroup) + \"\\n\")\n",
    "</font>\n",
    "</span>\n",
    "</div>"
   ]
  },
  {
   "cell_type": "markdown",
   "metadata": {},
   "source": [
    "***"
   ]
  },
  {
   "cell_type": "markdown",
   "metadata": {},
   "source": [
    "# Markov Chain Monte Carlo Analysis"
   ]
  },
  {
   "cell_type": "markdown",
   "metadata": {},
   "source": [
    "<div class=\"alert alert-block alert-warning\">\n",
    "<span style=\"font-family:Comic Sans MS\">\n",
    "<font color=DarkGoldenRod>\n",
    "Markov Chain Monte Carlo or MCMC methods made of a class of algorithms for sampling from a probability distribution. You construct a markov chain that has the desired distribution as its equilibrium distribution. Markov chains are stochastic models (random processes) that describes a sequence of possible events where the probability of each events is only dependent on the previous event. This allows you to obtain a sample of the desired distribution by recording the states from the chain.\n",
    "</font>\n",
    "</span>\n",
    "</div>"
   ]
  },
  {
   "cell_type": "markdown",
   "metadata": {},
   "source": [
    "<div class=\"alert alert-block alert-warning\">\n",
    "<span style=\"font-family:Comic Sans MS\">\n",
    "<font color=DarkGoldenRod>\n",
    "This package uses emcee, a Python implementation of Goodman and Weare's Affine Invariant Markov chain Monte Carlo (MCMC) Ensemble sampler. This technique is useful for Gaussian distributions and convex bodies, as they can be rescaled through affine transformations. Affine meaning that the transformation preserves collinearity, and collinearity meaning that a set of points share the property of lying on the same line.\n",
    "</font>\n",
    "</span>\n",
    "</div>"
   ]
  },
  {
   "cell_type": "code",
   "execution_count": 9,
   "metadata": {},
   "outputs": [],
   "source": [
    "ndim, nwalkers = 2, 1200\n",
    "ivar = np.array([np.log10(15), 2.5])\n",
    "p0 = ivar + 0.05 * np.random.uniform(size=(nwalkers, ndim))"
   ]
  },
  {
   "cell_type": "code",
   "execution_count": 12,
   "metadata": {},
   "outputs": [],
   "source": [
    "h5name = \"all_samples_MCMC_tutorial.h5\"\n",
    "max_n = 100\n",
    "cornername = \"barb_tutorial.png\"\n",
    "cpu_num = 1"
   ]
  },
  {
   "cell_type": "markdown",
   "metadata": {},
   "source": [
    "<div class=\"alert alert-block alert-warning\">\n",
    "<span style=\"font-family:Comic Sans MS\">\n",
    "<font color=DarkGoldenRod>\n",
    "- In emcee the first argument of the probability function is the position of a single \"walker\" (an N dimensional NumPy array).\n",
    "        <br>\n",
    "&nbsp;&nbsp;&nbsp;&nbsp;&nbsp;&nbsp;&nbsp;&nbsp;- The \"walkers\" explore the parameter space before settling into the area of maximum density that indicates \n",
    "        <br>\n",
    "- ndim is the number of dimensions of the vector.\n",
    "        <br>\n",
    "- ivar is an intermediate variable used for sampling.\n",
    "        <br>\n",
    "- p0 is a uniform random distribution mimicking the distribution of the data.\n",
    "        <br>\n",
    "</font>\n",
    "</span>\n",
    "</div>"
   ]
  },
  {
   "cell_type": "markdown",
   "metadata": {},
   "source": [
    "<div class=\"alert alert-block alert-info\">\n",
    "<span style=\"font-family:Comic Sans MS\">\n",
    "<font color=CornflowerBlue>\n",
    "&nbsp;&nbsp;&nbsp;&nbsp;logging.info(\"{0} CPUs\".format(cpu_num))\n",
    "</font>\n",
    "</span>\n",
    "</div>"
   ]
  },
  {
   "cell_type": "code",
   "execution_count": 13,
   "metadata": {},
   "outputs": [
    {
     "name": "stderr",
     "output_type": "stream",
     "text": [
      " 49%|████▉     | 4900/10000 [1:47:28<1:51:51,  1.32s/it] \n"
     ]
    }
   ],
   "source": [
    "old_tau = sampling(\n",
    "        p0, varrgroup, cpu_num, nwalkers, ndim, filename=h5name, max_n=max_n\n",
    "    )"
   ]
  },
  {
   "cell_type": "markdown",
   "metadata": {},
   "source": [
    "<div class=\"alert alert-block alert-info\">\n",
    "<span style=\"font-family:Comic Sans MS\">\n",
    "<font color=CornflowerBlue>\n",
    "&nbsp;&nbsp;&nbsp;&nbsp;logging.info(\"Tau from the Sampler: {0}\".format(old_tau) + \"\\n\")\n",
    "</font>\n",
    "</span>\n",
    "</div>"
   ]
  },
  {
   "cell_type": "code",
   "execution_count": 14,
   "metadata": {},
   "outputs": [],
   "source": [
    "samples = read_samples(h5name)"
   ]
  },
  {
   "cell_type": "code",
   "execution_count": 15,
   "metadata": {},
   "outputs": [],
   "source": [
    "converted_params = convert_params(samples)"
   ]
  },
  {
   "cell_type": "code",
   "execution_count": 16,
   "metadata": {},
   "outputs": [],
   "source": [
    "make_corner(converted_params, figname=cornername, save=True)"
   ]
  },
  {
   "cell_type": "code",
   "execution_count": 18,
   "metadata": {},
   "outputs": [
    {
     "data": {
      "image/png": "[encoded data removed]",
      "text/plain": [
       "<IPython.core.display.Image object>"
      ]
     },
     "execution_count": 18,
     "metadata": {},
     "output_type": "execute_result"
    }
   ],
   "source": [
    "from IPython.display import Image\n",
    "Image(filename='barb_tutorial.png') "
   ]
  },
  {
   "cell_type": "markdown",
   "metadata": {},
   "source": [
    "<div class=\"alert alert-block alert-warning\">\n",
    "<span style=\"font-family:Comic Sans MS\">\n",
    "<font color=DarkGoldenRod>\n",
    "- If the maximum number of iterations isn't high enough, then the function will not converge. For most cases, max_n = 100000 is enough for the function to converge.\n",
    "        <br>\n",
    "- You might notice that the program is slow to run when the number of cpus available, cpu_num, is set to just 1, and so it is reccomended that you set the number of cpus available to a number greater than one. \n",
    "        <br>\n",
    "    &nbsp;&nbsp;&nbsp;&nbsp; - It is also not reccomended that you run this program on a head node and instead opt to submit your job to a job scheduler because this program requires a large amount of computational power.\n",
    "</font>\n",
    "</span>\n",
    "</div>"
   ]
  },
  {
   "cell_type": "markdown",
   "metadata": {},
   "source": [
    "<div class=\"alert alert-block alert-success\">\n",
    "<span style=\"font-family:Comic Sans MS\">\n",
    "<font color=DarkOliveGreen>\n",
    "You are now ready to run barb!\n",
    "</font>\n",
    "</span>\n",
    "</div>"
   ]
  }
 ],
 "metadata": {
  "kernelspec": {
   "display_name": "Python 3",
   "language": "python",
   "name": "python3"
  },
  "language_info": {
   "codemirror_mode": {
    "name": "ipython",
    "version": 3
   },
   "file_extension": ".py",
   "mimetype": "text/x-python",
   "name": "python",
   "nbconvert_exporter": "python",
   "pygments_lexer": "ipython3",
   "version": "3.8.3"
  }
 },
 "nbformat": 4,
 "nbformat_minor": 4
}
